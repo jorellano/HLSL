{
 "cells": [
  {
   "cell_type": "markdown",
   "metadata": {},
   "source": [
    "# Maximum wind speed prediction at the Sprogø station"
   ]
  },
  {
   "cell_type": "markdown",
   "metadata": {},
   "source": [
    "The exercise is to predict the maximum speed occuring every 50 years even if no measure exists for such a period. The available data are only measured over 21 years at the Sprogø  meteorological station located in Denmark. First the statistical steps will be given then illustrated with functions from the scipy.interpolate module. At the end the interested readers are invited to compute results from raw data and in a slight different approach.\n",
    "\n",
    "# Statistical Approach\n",
    "\n",
    "The annual maxima are supposed to fit a normal probabilty density funciton. However such funciton is not going to be estimated because it gives a probability from a wind speed maxisma. Finding the mmaximum wind speed occuring every 50 years requires the opposide approach, the result needs to be found from a defined probability. That is the quantil function role and the exercise goal will be to find it. In the current model, it is supposed that the maximum wind speed occuring every 50 years is defined as the upper 2% quantile.\n",
    "\n",
    "By definition, the quantile funciton is the inverse of the cumulative distribution function. The latter describes the probability distribution of an annual maximma. In the exercise, the cumulative probability **$p_i$** for a given year **i** is deffined as **$p_i =(N+1) $** with $N = 21$, the number of measured years. Thus it will be possible to caculate the cumulative probability of ever measured wind speed maxima. From those experiemnetal points, the scipy.interpolate module will be very useful for fitting the quantil function. Finally the 50 years maxima is going to be evaulated from the cumulative proabilty of the 2% quantile.\n",
    "\n",
    "# Computing the cumulative probabilities\n",
    "The annual wind speeds maxima have already been computed and saved in the numpy format in the file [example/max-speeds.npy](http://www.scipy-lectures.org/_downloads/max-speeds.npy), the they will be loaded by using numpy:\n"
   ]
  },
  {
   "cell_type": "code",
   "execution_count": 6,
   "metadata": {
    "collapsed": false
   },
   "outputs": [],
   "source": [
    "import numpy as np\n",
    "max_speeds = np.load('max-speeds.npy')\n",
    "years_nb = max_speeds.shape[0]"
   ]
  },
  {
   "cell_type": "markdown",
   "metadata": {},
   "source": [
    "Following the cumulative probability definition **p_i** from the previous section, the corresponding values will be:\n"
   ]
  },
  {
   "cell_type": "code",
   "execution_count": 9,
   "metadata": {
    "collapsed": false
   },
   "outputs": [],
   "source": [
    "cprob = (np.arange(years_nb, dtype=np.float32) + 1)/(years_nb + 1)"
   ]
  },
  {
   "cell_type": "code",
   "execution_count": null,
   "metadata": {
    "collapsed": true
   },
   "outputs": [],
   "source": []
  },
  {
   "cell_type": "code",
   "execution_count": null,
   "metadata": {
    "collapsed": true
   },
   "outputs": [],
   "source": []
  },
  {
   "cell_type": "code",
   "execution_count": null,
   "metadata": {
    "collapsed": true
   },
   "outputs": [],
   "source": []
  },
  {
   "cell_type": "code",
   "execution_count": null,
   "metadata": {
    "collapsed": true
   },
   "outputs": [],
   "source": []
  },
  {
   "cell_type": "code",
   "execution_count": null,
   "metadata": {
    "collapsed": true
   },
   "outputs": [],
   "source": []
  },
  {
   "cell_type": "code",
   "execution_count": null,
   "metadata": {
    "collapsed": true
   },
   "outputs": [],
   "source": []
  },
  {
   "cell_type": "code",
   "execution_count": null,
   "metadata": {
    "collapsed": true
   },
   "outputs": [],
   "source": []
  },
  {
   "cell_type": "code",
   "execution_count": null,
   "metadata": {
    "collapsed": true
   },
   "outputs": [],
   "source": []
  },
  {
   "cell_type": "code",
   "execution_count": null,
   "metadata": {
    "collapsed": true
   },
   "outputs": [],
   "source": []
  },
  {
   "cell_type": "code",
   "execution_count": null,
   "metadata": {
    "collapsed": true
   },
   "outputs": [],
   "source": []
  }
 ],
 "metadata": {
  "kernelspec": {
   "display_name": "Python 3",
   "language": "python",
   "name": "python3"
  },
  "language_info": {
   "codemirror_mode": {
    "name": "ipython",
    "version": 3
   },
   "file_extension": ".py",
   "mimetype": "text/x-python",
   "name": "python",
   "nbconvert_exporter": "python",
   "pygments_lexer": "ipython3",
   "version": "3.5.2"
  }
 },
 "nbformat": 4,
 "nbformat_minor": 1
}
